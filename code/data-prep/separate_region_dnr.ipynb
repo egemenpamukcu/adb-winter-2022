# -*- coding: utf-8 -*-
"""
Created on Mon Mar  7 13:52:50 2022

@author: linst
"""

import numpy as np
import pandas as pd
import os
from sklearn.linear_model import LinearRegression
from linearmodels import PanelOLS
from linearmodels import RandomEffects

# Set path.
path = r'C:\Users\linst\GitHub\adb-winter-2022\data\final'

# Load data.
merged = 'merged_adb.csv'
df_adb = pd.read_csv(os.path.join(path, merged))
df_adb.head()
print(df_adb)

# Donor vs. Receiver.
adb_donor = df_adb.loc[df_adb.donor == 1]
print(adb_donor)
adb_donor.to_csv(r'C:\Users\linst\GitHub\adb-winter-2022\data\final\adb_donor.csv')
adb_recipient = df_adb.loc[df_adb.donor == 0]
print(adb_recipient)
adb_recipient.to_csv(r'C:\Users\linst\GitHub\adb-winter-2022\data\final\adb_recipient.csv')

# Members by region.
adb_SA = df_adb.loc[df_adb.region == "South Asia"]
adb_SA.to_csv(r'C:\Users\linst\GitHub\adb-winter-2022\data\final\adb_SA.csv')

adb_SEA = df_adb.loc[df_adb.region == "Southeast Asia"]
adb_SEA.to_csv(r'C:\Users\linst\GitHub\adb-winter-2022\data\final\adb_SEA.csv')

adb_O = df_adb.loc[df_adb.region == "Oceania"]
adb_O.to_csv(r'C:\Users\linst\GitHub\adb-winter-2022\data\final\adb_O.csv')

adb_EA = df_adb.loc[df_adb.region == "East Asia"]
adb_EA.to_csv(r'C:\Users\linst\GitHub\adb-winter-2022\data\final\adb_EA.csv')

adb_SWA = df_adb.loc[df_adb.region == "Central and West Asia"]
adb_SWA.to_csv(r'C:\Users\linst\GitHub\adb-winter-2022\data\final\adb_SWA.csv')

# Fragility Analysis (in R)