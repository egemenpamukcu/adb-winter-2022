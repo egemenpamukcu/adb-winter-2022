import pandas as pd
import os

# Set path.
path = r'C:\Users\linst\GitHub\adb-winter-2022\data\final'

# Load and clean the 2 datasets
merged = 'merged_data.csv'
region_dvsr = 'region and donor_recipient.csv'
df_merge = pd.read_csv(os.path.join(path, merged))
df_rdr = pd.read_csv(os.path.join(path, region_dvsr))

df_rdr.head()
df_merge.head()

df_region = df_merge.merge(df_rdr, how = 'left', left_on = 'iso', right_on = 'iso')

df_region.head()

df_region.to_csv(r'C:\Users\linst\GitHub\adb-winter-2022\data\final\merged_region_donor_recipient.csv')